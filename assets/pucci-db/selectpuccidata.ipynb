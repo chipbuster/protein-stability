{
 "cells": [
  {
   "cell_type": "code",
   "execution_count": 33,
   "metadata": {},
   "outputs": [
    {
     "name": "stderr",
     "output_type": "stream",
     "text": [
      "┌ Info: Precompiling CSV [336ed68f-0bac-5ca0-87d4-7b16caf5d00b]\n",
      "└ @ Base loading.jl:1189\n"
     ]
    }
   ],
   "source": [
    "using DataFrames\n",
    "using Plots\n",
    "using CSV"
   ]
  },
  {
   "cell_type": "code",
   "execution_count": 34,
   "metadata": {},
   "outputs": [
    {
     "name": "stderr",
     "output_type": "stream",
     "text": [
      "┌ Warning: readtable is deprecated, use CSV.read from the CSV package instead\n",
      "│   caller = top-level scope at In[34]:1\n",
      "└ @ Core In[34]:1\n"
     ]
    },
    {
     "data": {
      "text/html": [
       "<table class=\"data-frame\"><thead><tr><th></th><th>N</th><th>PDBid</th><th>Chain</th><th>RESN</th><th>RESwt</th><th>RESmut</th><th>Tmexp</th><th>Tmexp_wt_</th><th>Hmexp</th><th>Hmexp_wt_</th><th>CPexp</th><th>CPexp_wt_</th><th>Gexp_T_</th><th>T</th><th>Nres</th><th>R</th><th>Protein</th><th>Organism</th><th>Ref_</th><th>pH</th><th>Exp_Tech_</th></tr><tr><th></th><th>Int64⍰</th><th>String⍰</th><th>String⍰</th><th>Int64⍰</th><th>String⍰</th><th>String⍰</th><th>Float64⍰</th><th>Float64⍰</th><th>String⍰</th><th>String⍰</th><th>String⍰</th><th>String⍰</th><th>String⍰</th><th>String⍰</th><th>Int64⍰</th><th>Float64⍰</th><th>String⍰</th><th>String⍰</th><th>String⍰</th><th>String⍰</th><th>String⍰</th></tr></thead><tbody><tr><th>1</th><td>1</td><td>1aky</td><td>A</td><td>8</td><td>VAL</td><td>ILE</td><td>-1.5</td><td>47.6</td><td>70</td><td>-340</td><td>-</td><td>-8.5</td><td>5</td><td>25</td><td>220</td><td>1.63</td><td>ADK</td><td>Yeast</td><td>[1]</td><td>[7.5]</td><td>FL</td></tr><tr><th>2</th><td>2</td><td>1aky</td><td>A</td><td>48</td><td>GLN</td><td>GLU</td><td>-1.3</td><td>47.6</td><td>60</td><td>-340</td><td>-</td><td>-8.5</td><td>4</td><td>25</td><td>220</td><td>1.63</td><td>ADK</td><td>Yeast</td><td>[1]</td><td>[7.7]</td><td>FL</td></tr><tr><th>3</th><td>3</td><td>1aky</td><td>A</td><td>77</td><td>THR</td><td>HIS</td><td>-1.1</td><td>47.6</td><td>130</td><td>-340</td><td>-</td><td>-8.5</td><td>9</td><td>25</td><td>220</td><td>1.63</td><td>ADK</td><td>Yeast</td><td>[1]</td><td>[7.5]</td><td>FL</td></tr><tr><th>4</th><td>4</td><td>1aky</td><td>A</td><td>110</td><td>THR</td><td>HIS</td><td>-4.8</td><td>47.6</td><td>165</td><td>-340</td><td>-</td><td>-8.5</td><td>11</td><td>25</td><td>220</td><td>1.63</td><td>ADK</td><td>Yeast</td><td>[1]</td><td>[7.6]</td><td>FL</td></tr><tr><th>5</th><td>5</td><td>1aky</td><td>A</td><td>169</td><td>ASN</td><td>ASP</td><td>-0.6</td><td>47.6</td><td>140</td><td>-340</td><td>-</td><td>-8.5</td><td>9</td><td>25</td><td>220</td><td>1.63</td><td>ADK</td><td>Yeast</td><td>[1]</td><td>[7.5]</td><td>FL</td></tr><tr><th>6</th><td>6</td><td>1aky</td><td>A</td><td>213</td><td>ILE</td><td>PHE</td><td>-7.7</td><td>47.6</td><td>90</td><td>-340</td><td>-</td><td>-8.5</td><td>8</td><td>25</td><td>220</td><td>1.63</td><td>ADK</td><td>Yeast</td><td>[1]</td><td>[7.5]</td><td>FL</td></tr><tr><th>7</th><td>7</td><td>1am7</td><td>A</td><td>31</td><td>HIS</td><td>ASP</td><td>-6.2</td><td>52.3</td><td>57</td><td>-474</td><td>-</td><td>-</td><td>6.7</td><td>25</td><td>158</td><td>2.3</td><td>1AM7</td><td>LambdaP</td><td>[2]</td><td>[6.0]</td><td>FL</td></tr><tr><th>8</th><td>8</td><td>1ank</td><td>A</td><td>84</td><td>ASP</td><td>HIS</td><td>-7.2</td><td>51.8</td><td>134</td><td>-398</td><td>-</td><td>-</td><td>5.9</td><td>52</td><td>214</td><td>2.0</td><td>ADK</td><td>Ecoli</td><td>[3]</td><td>[7.2]</td><td>DSC</td></tr><tr><th>9</th><td>9</td><td>1ank</td><td>A</td><td>85</td><td>GLY</td><td>VAL</td><td>-11.1</td><td>51.8</td><td>105</td><td>-398</td><td>-</td><td>-</td><td>10</td><td>52</td><td>214</td><td>2.0</td><td>ADK</td><td>Ecoli</td><td>[3]</td><td>[7.2]</td><td>DSC</td></tr><tr><th>10</th><td>10</td><td>1ank</td><td>A</td><td>86</td><td>PHE</td><td>LEU</td><td>-2.6</td><td>51.8</td><td>-8</td><td>-398</td><td>-</td><td>-</td><td>3.3</td><td>52</td><td>214</td><td>2.0</td><td>ADK</td><td>Ecoli</td><td>[3]</td><td>[7.2]</td><td>DSC</td></tr><tr><th>11</th><td>11</td><td>1ank</td><td>A</td><td>88</td><td>ARG</td><td>GLY</td><td>-0.8</td><td>51.8</td><td>84</td><td>-398</td><td>-</td><td>-</td><td>0.8</td><td>52</td><td>214</td><td>2.0</td><td>ADK</td><td>Ecoli</td><td>[4]</td><td>[7.4]</td><td>DSC</td></tr><tr><th>12</th><td>12</td><td>1aqh</td><td>A</td><td>12</td><td>ASN</td><td>ARG</td><td>-0.7</td><td>44.0</td><td>88</td><td>-895</td><td>-</td><td>-</td><td>-</td><td>-</td><td>453</td><td>2.0</td><td>amyL</td><td>PSEHA</td><td>[5]</td><td>[7.2]</td><td>DSC</td></tr><tr><th>13</th><td>13</td><td>1aqh</td><td>A</td><td>64</td><td>ARG</td><td>GLU</td><td>-1.4</td><td>44.0</td><td>0</td><td>-895</td><td>-</td><td>-</td><td>-</td><td>-</td><td>453</td><td>2.0</td><td>amyL</td><td>PSEHA</td><td>[5]</td><td>[7.2]</td><td>DSC</td></tr><tr><th>14</th><td>14</td><td>1aqh</td><td>A</td><td>150</td><td>ASN</td><td>ASP</td><td>0.8</td><td>44.0</td><td>-239</td><td>-895</td><td>-</td><td>-</td><td>-</td><td>-</td><td>453</td><td>2.0</td><td>amyL</td><td>PSEHA</td><td>[5]</td><td>[7.2]</td><td>DSC</td></tr><tr><th>15</th><td>15</td><td>1aqh</td><td>A</td><td>196</td><td>VAL</td><td>PHE</td><td>1.4</td><td>44.0</td><td>-84</td><td>-895</td><td>-</td><td>-</td><td>-</td><td>-</td><td>453</td><td>2.0</td><td>amyL</td><td>PSEHA</td><td>[5]</td><td>[7.2]</td><td>DSC</td></tr><tr><th>16</th><td>16</td><td>1aqh</td><td>A</td><td>219</td><td>LEU</td><td>ARG</td><td>-1.5</td><td>44.0</td><td>-13</td><td>-895</td><td>-</td><td>-</td><td>-</td><td>-</td><td>453</td><td>2.0</td><td>amyL</td><td>PSEHA</td><td>[5]</td><td>[7.2]</td><td>DSC</td></tr><tr><th>17</th><td>17</td><td>1aqh</td><td>A</td><td>279</td><td>GLU</td><td>TRP</td><td>-2.6</td><td>44.0</td><td>117</td><td>-895</td><td>-</td><td>-</td><td>-</td><td>-</td><td>453</td><td>2.0</td><td>amyL</td><td>PSEHA</td><td>[5]</td><td>[7.2]</td><td>DSC</td></tr><tr><th>18</th><td>18</td><td>1aqh</td><td>A</td><td>300</td><td>LYS</td><td>ARG</td><td>1.2</td><td>44.0</td><td>-38</td><td>-895</td><td>-</td><td>-</td><td>-</td><td>-</td><td>453</td><td>2.0</td><td>amyL</td><td>PSEHA</td><td>[5]</td><td>[7.2]</td><td>DSC</td></tr><tr><th>19</th><td>19</td><td>1avr</td><td>A</td><td>17</td><td>GLU</td><td>GLY</td><td>0.3</td><td>52.5</td><td>-4</td><td>-682</td><td>-</td><td>-10.3</td><td>-</td><td>-</td><td>320</td><td>2.3</td><td>1AVR</td><td>Human</td><td>[6]</td><td>[8.0]</td><td>DSC</td></tr><tr><th>20</th><td>20</td><td>1ayf</td><td>A</td><td>11</td><td>PHE</td><td>TRP</td><td>-5.3</td><td>50.7</td><td>-</td><td>-346</td><td>-</td><td>-</td><td>-</td><td>-</td><td>105</td><td>1.85</td><td>ADR</td><td>Bovine</td><td>[7]</td><td>[8.5]</td><td>CD</td></tr><tr><th>21</th><td>21</td><td>1ayf</td><td>A</td><td>43</td><td>PHE</td><td>TRP</td><td>-6.5</td><td>50.7</td><td>-</td><td>-346</td><td>-</td><td>-</td><td>-</td><td>-</td><td>105</td><td>1.85</td><td>ADR</td><td>Bovine</td><td>[7]</td><td>[8.5]</td><td>CD</td></tr><tr><th>22</th><td>22</td><td>1ayf</td><td>A</td><td>54</td><td>THR</td><td>ALA</td><td>-5.5</td><td>50.7</td><td>70</td><td>-346</td><td>0.7</td><td>-7.5</td><td>6.2</td><td>25</td><td>105</td><td>1.85</td><td>ADR</td><td>Bovine</td><td>[8]</td><td>[8.5]</td><td>CD</td></tr><tr><th>23</th><td>23</td><td>1ayf</td><td>A</td><td>54</td><td>THR</td><td>SER</td><td>0.3</td><td>50.7</td><td>-1</td><td>-346</td><td>-0.5</td><td>-7.5</td><td>0.5</td><td>25</td><td>105</td><td>1.85</td><td>ADR</td><td>Bovine</td><td>[8]</td><td>[8.5]</td><td>CD</td></tr><tr><th>24</th><td>24</td><td>1ayf</td><td>A</td><td>56</td><td>HIS</td><td>GLN</td><td>-4.9</td><td>50.7</td><td>105</td><td>-346</td><td>0.4</td><td>-7.5</td><td>9.1</td><td>25</td><td>105</td><td>1.85</td><td>ADR</td><td>Bovine</td><td>[8]</td><td>[8.5]</td><td>DSC</td></tr><tr><th>25</th><td>25</td><td>1ayf</td><td>A</td><td>56</td><td>HIS</td><td>ARG</td><td>-2.1</td><td>50.7</td><td>106</td><td>-346</td><td>3.2</td><td>-7.5</td><td>5.7</td><td>25</td><td>105</td><td>1.85</td><td>ADR</td><td>Bovine</td><td>[8]</td><td>[8.5]</td><td>DSC</td></tr><tr><th>26</th><td>26</td><td>1ayf</td><td>A</td><td>56</td><td>HIS</td><td>THR</td><td>-2.6</td><td>50.7</td><td>84</td><td>-346</td><td>1.6</td><td>-7.5</td><td>5.9</td><td>25</td><td>105</td><td>1.85</td><td>ADR</td><td>Bovine</td><td>[8]</td><td>[8.5]</td><td>DSC</td></tr><tr><th>27</th><td>27</td><td>1ayf</td><td>A</td><td>59</td><td>PHE</td><td>TRP</td><td>-14.6</td><td>50.7</td><td>-</td><td>-346</td><td>-</td><td>-7.5</td><td>-</td><td>-</td><td>105</td><td>1.85</td><td>ADR</td><td>Bovine</td><td>[7]</td><td>[8.5]</td><td>CD</td></tr><tr><th>28</th><td>28</td><td>1ayf</td><td>A</td><td>64</td><td>PHE</td><td>TRP</td><td>-3.2</td><td>50.7</td><td>-</td><td>-346</td><td>-</td><td>-7.5</td><td>-</td><td>-</td><td>105</td><td>1.85</td><td>ADR</td><td>Bovine</td><td>[7]</td><td>[8.5]</td><td>CD</td></tr><tr><th>29</th><td>29</td><td>1ayf</td><td>A</td><td>68</td><td>GLU</td><td>ALA</td><td>-1.1</td><td>50.7</td><td>3</td><td>-346</td><td>-</td><td>-7.5</td><td>-</td><td>-</td><td>105</td><td>1.85</td><td>ADR</td><td>Bovine</td><td>[256]</td><td>[8.5]</td><td>CD</td></tr><tr><th>30</th><td>30</td><td>1ayf</td><td>A</td><td>76</td><td>ASP</td><td>GLU</td><td>2.0</td><td>50.7</td><td>-8</td><td>-346</td><td>-2.7</td><td>-7.5</td><td>2</td><td>25</td><td>105</td><td>1.85</td><td>ADR</td><td>Bovine</td><td>[8]</td><td>[8.5]</td><td>DSC</td></tr><tr><th>&vellip;</th><td>&vellip;</td><td>&vellip;</td><td>&vellip;</td><td>&vellip;</td><td>&vellip;</td><td>&vellip;</td><td>&vellip;</td><td>&vellip;</td><td>&vellip;</td><td>&vellip;</td><td>&vellip;</td><td>&vellip;</td><td>&vellip;</td><td>&vellip;</td><td>&vellip;</td><td>&vellip;</td><td>&vellip;</td><td>&vellip;</td><td>&vellip;</td><td>&vellip;</td><td>&vellip;</td></tr></tbody></table>"
      ],
      "text/plain": [
       "1626×21 DataFrame. Omitted printing of 14 columns\n",
       "│ Row  │ N      │ PDBid     │ Chain   │ RESN   │ RESwt   │ RESmut  │ Tmexp    │\n",
       "│      │ \u001b[90mInt64⍰\u001b[39m │ \u001b[90mString⍰\u001b[39m   │ \u001b[90mString⍰\u001b[39m │ \u001b[90mInt64⍰\u001b[39m │ \u001b[90mString⍰\u001b[39m │ \u001b[90mString⍰\u001b[39m │ \u001b[90mFloat64⍰\u001b[39m │\n",
       "├──────┼────────┼───────────┼─────────┼────────┼─────────┼─────────┼──────────┤\n",
       "│ 1    │ 1      │ 1aky      │ A       │ 8      │ VAL     │ ILE     │ -1.5     │\n",
       "│ 2    │ 2      │ 1aky      │ A       │ 48     │ GLN     │ GLU     │ -1.3     │\n",
       "│ 3    │ 3      │ 1aky      │ A       │ 77     │ THR     │ HIS     │ -1.1     │\n",
       "│ 4    │ 4      │ 1aky      │ A       │ 110    │ THR     │ HIS     │ -4.8     │\n",
       "│ 5    │ 5      │ 1aky      │ A       │ 169    │ ASN     │ ASP     │ -0.6     │\n",
       "│ 6    │ 6      │ 1aky      │ A       │ 213    │ ILE     │ PHE     │ -7.7     │\n",
       "│ 7    │ 7      │ 1am7      │ A       │ 31     │ HIS     │ ASP     │ -6.2     │\n",
       "│ 8    │ 8      │ 1ank      │ A       │ 84     │ ASP     │ HIS     │ -7.2     │\n",
       "│ 9    │ 9      │ 1ank      │ A       │ 85     │ GLY     │ VAL     │ -11.1    │\n",
       "│ 10   │ 10     │ 1ank      │ A       │ 86     │ PHE     │ LEU     │ -2.6     │\n",
       "⋮\n",
       "│ 1616 │ 1616   │ 5pti_m52l │ A       │ 15     │ LYS     │ ILE     │ -6.1     │\n",
       "│ 1617 │ 1617   │ 5pti_m52l │ A       │ 15     │ LYS     │ LEU     │ -4.7     │\n",
       "│ 1618 │ 1618   │ 5pti_m52l │ A       │ 15     │ LYS     │ MET     │ -4.9     │\n",
       "│ 1619 │ 1619   │ 5pti_m52l │ A       │ 15     │ LYS     │ ASN     │ -1.4     │\n",
       "│ 1620 │ 1620   │ 5pti_m52l │ A       │ 15     │ LYS     │ GLN     │ -3.5     │\n",
       "│ 1621 │ 1621   │ 5pti_m52l │ A       │ 15     │ LYS     │ ARG     │ 1.3      │\n",
       "│ 1622 │ 1622   │ 5pti_m52l │ A       │ 15     │ LYS     │ SER     │ -1.3     │\n",
       "│ 1623 │ 1623   │ 5pti_m52l │ A       │ 15     │ LYS     │ THR     │ -1.1     │\n",
       "│ 1624 │ 1624   │ 5pti_m52l │ A       │ 15     │ LYS     │ VAL     │ -6.3     │\n",
       "│ 1625 │ 1625   │ 5pti_m52l │ A       │ 15     │ LYS     │ TRP     │ -7.5     │\n",
       "│ 1626 │ 1626   │ 5pti_m52l │ A       │ 15     │ LYS     │ TYR     │ -6.6     │"
      ]
     },
     "execution_count": 34,
     "metadata": {},
     "output_type": "execute_result"
    }
   ],
   "source": [
    "pucc = readtable(\"Pucci2016-r3.csv\")"
   ]
  },
  {
   "cell_type": "code",
   "execution_count": 35,
   "metadata": {},
   "outputs": [
    {
     "data": {
      "text/html": [
       "<table class=\"data-frame\"><thead><tr><th></th><th>N</th><th>PDBid</th><th>Chain</th><th>RESN</th><th>RESwt</th><th>RESmut</th><th>Tmexp</th><th>Tmexp_wt_</th><th>Hmexp</th><th>Hmexp_wt_</th><th>CPexp</th><th>CPexp_wt_</th><th>Gexp_T_</th><th>T</th><th>Nres</th><th>R</th><th>Protein</th><th>Organism</th><th>Ref_</th><th>pH</th><th>Exp_Tech_</th></tr><tr><th></th><th>Int64⍰</th><th>String⍰</th><th>String⍰</th><th>Int64⍰</th><th>String⍰</th><th>String⍰</th><th>Float64⍰</th><th>Float64⍰</th><th>String⍰</th><th>String⍰</th><th>String⍰</th><th>String⍰</th><th>String⍰</th><th>String⍰</th><th>Int64⍰</th><th>Float64⍰</th><th>String⍰</th><th>String⍰</th><th>String⍰</th><th>String⍰</th><th>String⍰</th></tr></thead><tbody><tr><th>1</th><td>1</td><td>1aky</td><td>A</td><td>8</td><td>VAL</td><td>ILE</td><td>-1.5</td><td>47.6</td><td>70</td><td>-340</td><td>-</td><td>-8.5</td><td>5</td><td>25</td><td>220</td><td>1.63</td><td>ADK</td><td>Yeast</td><td>[1]</td><td>[7.5]</td><td>FL</td></tr><tr><th>2</th><td>2</td><td>1aky</td><td>A</td><td>48</td><td>GLN</td><td>GLU</td><td>-1.3</td><td>47.6</td><td>60</td><td>-340</td><td>-</td><td>-8.5</td><td>4</td><td>25</td><td>220</td><td>1.63</td><td>ADK</td><td>Yeast</td><td>[1]</td><td>[7.7]</td><td>FL</td></tr><tr><th>3</th><td>3</td><td>1aky</td><td>A</td><td>77</td><td>THR</td><td>HIS</td><td>-1.1</td><td>47.6</td><td>130</td><td>-340</td><td>-</td><td>-8.5</td><td>9</td><td>25</td><td>220</td><td>1.63</td><td>ADK</td><td>Yeast</td><td>[1]</td><td>[7.5]</td><td>FL</td></tr><tr><th>4</th><td>4</td><td>1aky</td><td>A</td><td>110</td><td>THR</td><td>HIS</td><td>-4.8</td><td>47.6</td><td>165</td><td>-340</td><td>-</td><td>-8.5</td><td>11</td><td>25</td><td>220</td><td>1.63</td><td>ADK</td><td>Yeast</td><td>[1]</td><td>[7.6]</td><td>FL</td></tr><tr><th>5</th><td>5</td><td>1aky</td><td>A</td><td>169</td><td>ASN</td><td>ASP</td><td>-0.6</td><td>47.6</td><td>140</td><td>-340</td><td>-</td><td>-8.5</td><td>9</td><td>25</td><td>220</td><td>1.63</td><td>ADK</td><td>Yeast</td><td>[1]</td><td>[7.5]</td><td>FL</td></tr><tr><th>6</th><td>6</td><td>1aky</td><td>A</td><td>213</td><td>ILE</td><td>PHE</td><td>-7.7</td><td>47.6</td><td>90</td><td>-340</td><td>-</td><td>-8.5</td><td>8</td><td>25</td><td>220</td><td>1.63</td><td>ADK</td><td>Yeast</td><td>[1]</td><td>[7.5]</td><td>FL</td></tr><tr><th>7</th><td>7</td><td>1am7</td><td>A</td><td>31</td><td>HIS</td><td>ASP</td><td>-6.2</td><td>52.3</td><td>57</td><td>-474</td><td>-</td><td>-</td><td>6.7</td><td>25</td><td>158</td><td>2.3</td><td>1AM7</td><td>LambdaP</td><td>[2]</td><td>[6.0]</td><td>FL</td></tr><tr><th>8</th><td>8</td><td>1ank</td><td>A</td><td>84</td><td>ASP</td><td>HIS</td><td>-7.2</td><td>51.8</td><td>134</td><td>-398</td><td>-</td><td>-</td><td>5.9</td><td>52</td><td>214</td><td>2.0</td><td>ADK</td><td>Ecoli</td><td>[3]</td><td>[7.2]</td><td>DSC</td></tr><tr><th>9</th><td>9</td><td>1ank</td><td>A</td><td>85</td><td>GLY</td><td>VAL</td><td>-11.1</td><td>51.8</td><td>105</td><td>-398</td><td>-</td><td>-</td><td>10</td><td>52</td><td>214</td><td>2.0</td><td>ADK</td><td>Ecoli</td><td>[3]</td><td>[7.2]</td><td>DSC</td></tr><tr><th>10</th><td>10</td><td>1ank</td><td>A</td><td>86</td><td>PHE</td><td>LEU</td><td>-2.6</td><td>51.8</td><td>-8</td><td>-398</td><td>-</td><td>-</td><td>3.3</td><td>52</td><td>214</td><td>2.0</td><td>ADK</td><td>Ecoli</td><td>[3]</td><td>[7.2]</td><td>DSC</td></tr><tr><th>11</th><td>11</td><td>1ank</td><td>A</td><td>88</td><td>ARG</td><td>GLY</td><td>-0.8</td><td>51.8</td><td>84</td><td>-398</td><td>-</td><td>-</td><td>0.8</td><td>52</td><td>214</td><td>2.0</td><td>ADK</td><td>Ecoli</td><td>[4]</td><td>[7.4]</td><td>DSC</td></tr><tr><th>12</th><td>22</td><td>1ayf</td><td>A</td><td>54</td><td>THR</td><td>ALA</td><td>-5.5</td><td>50.7</td><td>70</td><td>-346</td><td>0.7</td><td>-7.5</td><td>6.2</td><td>25</td><td>105</td><td>1.85</td><td>ADR</td><td>Bovine</td><td>[8]</td><td>[8.5]</td><td>CD</td></tr><tr><th>13</th><td>23</td><td>1ayf</td><td>A</td><td>54</td><td>THR</td><td>SER</td><td>0.3</td><td>50.7</td><td>-1</td><td>-346</td><td>-0.5</td><td>-7.5</td><td>0.5</td><td>25</td><td>105</td><td>1.85</td><td>ADR</td><td>Bovine</td><td>[8]</td><td>[8.5]</td><td>CD</td></tr><tr><th>14</th><td>24</td><td>1ayf</td><td>A</td><td>56</td><td>HIS</td><td>GLN</td><td>-4.9</td><td>50.7</td><td>105</td><td>-346</td><td>0.4</td><td>-7.5</td><td>9.1</td><td>25</td><td>105</td><td>1.85</td><td>ADR</td><td>Bovine</td><td>[8]</td><td>[8.5]</td><td>DSC</td></tr><tr><th>15</th><td>25</td><td>1ayf</td><td>A</td><td>56</td><td>HIS</td><td>ARG</td><td>-2.1</td><td>50.7</td><td>106</td><td>-346</td><td>3.2</td><td>-7.5</td><td>5.7</td><td>25</td><td>105</td><td>1.85</td><td>ADR</td><td>Bovine</td><td>[8]</td><td>[8.5]</td><td>DSC</td></tr><tr><th>16</th><td>26</td><td>1ayf</td><td>A</td><td>56</td><td>HIS</td><td>THR</td><td>-2.6</td><td>50.7</td><td>84</td><td>-346</td><td>1.6</td><td>-7.5</td><td>5.9</td><td>25</td><td>105</td><td>1.85</td><td>ADR</td><td>Bovine</td><td>[8]</td><td>[8.5]</td><td>DSC</td></tr><tr><th>17</th><td>30</td><td>1ayf</td><td>A</td><td>76</td><td>ASP</td><td>GLU</td><td>2.0</td><td>50.7</td><td>-8</td><td>-346</td><td>-2.7</td><td>-7.5</td><td>2</td><td>25</td><td>105</td><td>1.85</td><td>ADR</td><td>Bovine</td><td>[8]</td><td>[8.5]</td><td>DSC</td></tr><tr><th>18</th><td>31</td><td>1ayf</td><td>A</td><td>82</td><td>TYR</td><td>PHE</td><td>0.1</td><td>50.7</td><td>5</td><td>-346</td><td>0</td><td>-7.5</td><td>0.4</td><td>25</td><td>105</td><td>1.85</td><td>ADR</td><td>Bovine</td><td>[8]</td><td>[8.5]</td><td>DSC</td></tr><tr><th>19</th><td>32</td><td>1ayf</td><td>A</td><td>82</td><td>TYR</td><td>LEU</td><td>-0.7</td><td>50.7</td><td>25</td><td>-346</td><td>-0.5</td><td>-7.5</td><td>2.9</td><td>25</td><td>105</td><td>1.85</td><td>ADR</td><td>Bovine</td><td>[8]</td><td>[8.5]</td><td>DSC</td></tr><tr><th>20</th><td>33</td><td>1ayf</td><td>A</td><td>82</td><td>TYR</td><td>SER</td><td>-0.8</td><td>50.7</td><td>21</td><td>-346</td><td>-0.7</td><td>-7.5</td><td>2.7</td><td>25</td><td>105</td><td>1.85</td><td>ADR</td><td>Bovine</td><td>[8]</td><td>[8.5]</td><td>DSC</td></tr><tr><th>21</th><td>37</td><td>1ayf</td><td>A</td><td>95</td><td>CYS</td><td>SER</td><td>4.4</td><td>50.7</td><td>-18</td><td>-346</td><td>0.7</td><td>-7.5</td><td>-3.9</td><td>25</td><td>105</td><td>1.85</td><td>ADR</td><td>Bovine</td><td>[8]</td><td>[8.5]</td><td>DSC</td></tr><tr><th>22</th><td>38</td><td>1azp</td><td>A</td><td>24</td><td>TRP</td><td>ALA</td><td>-9.6</td><td>90.7</td><td>49</td><td>-245</td><td>0</td><td>-3</td><td>8.5</td><td>25</td><td>61</td><td>1.6</td><td>1AZP</td><td>SULAC</td><td>[9]</td><td>[7.0]</td><td>DSC</td></tr><tr><th>23</th><td>39</td><td>1azp</td><td>A</td><td>30</td><td>VAL</td><td>ILE</td><td>5.8</td><td>90.7</td><td>-19</td><td>-245</td><td>-0.2</td><td>-3</td><td>-2.2</td><td>25</td><td>61</td><td>1.6</td><td>1AZP</td><td>SULAC</td><td>[10]</td><td>[7.0]</td><td>DSC</td></tr><tr><th>24</th><td>40</td><td>1bni</td><td>A</td><td>8</td><td>ASP</td><td>ALA</td><td>-2.0</td><td>54.2</td><td>5</td><td>-592</td><td>-</td><td>-6.7</td><td>2.5</td><td>25</td><td>110</td><td>2.1</td><td>1BNI</td><td>BACAM</td><td>[12]</td><td>[6.3]</td><td>CD</td></tr><tr><th>25</th><td>41</td><td>1bni</td><td>A</td><td>8</td><td>ASP</td><td>GLY</td><td>-3.0</td><td>54.2</td><td>16</td><td>-592</td><td>-</td><td>-6.7</td><td>4.2</td><td>25</td><td>110</td><td>2.1</td><td>1BNI</td><td>BACAM</td><td>[12]</td><td>[6.3]</td><td>CD</td></tr><tr><th>26</th><td>42</td><td>1bni</td><td>A</td><td>12</td><td>ASP</td><td>GLY</td><td>-2.0</td><td>54.2</td><td>8</td><td>-592</td><td>-</td><td>-6.7</td><td>2.5</td><td>25</td><td>110</td><td>2.1</td><td>1BNI</td><td>BACAM</td><td>[13]</td><td>[4.4]</td><td>DSC</td></tr><tr><th>27</th><td>43</td><td>1bni</td><td>A</td><td>14</td><td>LEU</td><td>ALA</td><td>-11.9</td><td>54.2</td><td>71</td><td>-592</td><td>-</td><td>-6.7</td><td>17.6</td><td>25</td><td>110</td><td>2.1</td><td>1BNI</td><td>BACAM</td><td>[14]</td><td>[6.3]</td><td>FL</td></tr><tr><th>28</th><td>44</td><td>1bni</td><td>A</td><td>16</td><td>THR</td><td>ARG</td><td>1.3</td><td>54.2</td><td>-5</td><td>-592</td><td>-</td><td>-6.7</td><td>-1.6</td><td>25</td><td>110</td><td>2.1</td><td>1BNI</td><td>BACAM</td><td>[13]</td><td>[4.4]</td><td>DSC</td></tr><tr><th>29</th><td>45</td><td>1bni</td><td>A</td><td>17</td><td>TYR</td><td>ALA</td><td>-5.1</td><td>54.2</td><td>35</td><td>-592</td><td>-</td><td>-6.7</td><td>7.9</td><td>25</td><td>110</td><td>2.1</td><td>1BNI</td><td>BACAM</td><td>[12]</td><td>[6.3]</td><td>CD</td></tr><tr><th>30</th><td>46</td><td>1bni</td><td>A</td><td>22</td><td>ASP</td><td>MET</td><td>-1.6</td><td>54.2</td><td>-16</td><td>-592</td><td>-</td><td>-6.7</td><td>0.4</td><td>25</td><td>110</td><td>2.1</td><td>1BNI</td><td>BACAM</td><td>[13]</td><td>[4.4]</td><td>DSC</td></tr><tr><th>&vellip;</th><td>&vellip;</td><td>&vellip;</td><td>&vellip;</td><td>&vellip;</td><td>&vellip;</td><td>&vellip;</td><td>&vellip;</td><td>&vellip;</td><td>&vellip;</td><td>&vellip;</td><td>&vellip;</td><td>&vellip;</td><td>&vellip;</td><td>&vellip;</td><td>&vellip;</td><td>&vellip;</td><td>&vellip;</td><td>&vellip;</td><td>&vellip;</td><td>&vellip;</td><td>&vellip;</td></tr></tbody></table>"
      ],
      "text/plain": [
       "646×21 DataFrame. Omitted printing of 14 columns\n",
       "│ Row │ N      │ PDBid     │ Chain   │ RESN   │ RESwt   │ RESmut  │ Tmexp    │\n",
       "│     │ \u001b[90mInt64⍰\u001b[39m │ \u001b[90mString⍰\u001b[39m   │ \u001b[90mString⍰\u001b[39m │ \u001b[90mInt64⍰\u001b[39m │ \u001b[90mString⍰\u001b[39m │ \u001b[90mString⍰\u001b[39m │ \u001b[90mFloat64⍰\u001b[39m │\n",
       "├─────┼────────┼───────────┼─────────┼────────┼─────────┼─────────┼──────────┤\n",
       "│ 1   │ 1      │ 1aky      │ A       │ 8      │ VAL     │ ILE     │ -1.5     │\n",
       "│ 2   │ 2      │ 1aky      │ A       │ 48     │ GLN     │ GLU     │ -1.3     │\n",
       "│ 3   │ 3      │ 1aky      │ A       │ 77     │ THR     │ HIS     │ -1.1     │\n",
       "│ 4   │ 4      │ 1aky      │ A       │ 110    │ THR     │ HIS     │ -4.8     │\n",
       "│ 5   │ 5      │ 1aky      │ A       │ 169    │ ASN     │ ASP     │ -0.6     │\n",
       "│ 6   │ 6      │ 1aky      │ A       │ 213    │ ILE     │ PHE     │ -7.7     │\n",
       "│ 7   │ 7      │ 1am7      │ A       │ 31     │ HIS     │ ASP     │ -6.2     │\n",
       "│ 8   │ 8      │ 1ank      │ A       │ 84     │ ASP     │ HIS     │ -7.2     │\n",
       "│ 9   │ 9      │ 1ank      │ A       │ 85     │ GLY     │ VAL     │ -11.1    │\n",
       "│ 10  │ 10     │ 1ank      │ A       │ 86     │ PHE     │ LEU     │ -2.6     │\n",
       "⋮\n",
       "│ 636 │ 1616   │ 5pti_m52l │ A       │ 15     │ LYS     │ ILE     │ -6.1     │\n",
       "│ 637 │ 1617   │ 5pti_m52l │ A       │ 15     │ LYS     │ LEU     │ -4.7     │\n",
       "│ 638 │ 1618   │ 5pti_m52l │ A       │ 15     │ LYS     │ MET     │ -4.9     │\n",
       "│ 639 │ 1619   │ 5pti_m52l │ A       │ 15     │ LYS     │ ASN     │ -1.4     │\n",
       "│ 640 │ 1620   │ 5pti_m52l │ A       │ 15     │ LYS     │ GLN     │ -3.5     │\n",
       "│ 641 │ 1621   │ 5pti_m52l │ A       │ 15     │ LYS     │ ARG     │ 1.3      │\n",
       "│ 642 │ 1622   │ 5pti_m52l │ A       │ 15     │ LYS     │ SER     │ -1.3     │\n",
       "│ 643 │ 1623   │ 5pti_m52l │ A       │ 15     │ LYS     │ THR     │ -1.1     │\n",
       "│ 644 │ 1624   │ 5pti_m52l │ A       │ 15     │ LYS     │ VAL     │ -6.3     │\n",
       "│ 645 │ 1625   │ 5pti_m52l │ A       │ 15     │ LYS     │ TRP     │ -7.5     │\n",
       "│ 646 │ 1626   │ 5pti_m52l │ A       │ 15     │ LYS     │ TYR     │ -6.6     │"
      ]
     },
     "execution_count": 35,
     "metadata": {},
     "output_type": "execute_result"
    }
   ],
   "source": [
    "# Convert to floats\n",
    "function floatable(x)::Bool\n",
    "    try\n",
    "        parse(Float64,x)\n",
    "        return true\n",
    "    catch\n",
    "        return false\n",
    "    end\n",
    "end\n",
    "\n",
    "pucc = pucc[floatable.(pucc[:Gexp_T_]),:]\n"
   ]
  },
  {
   "cell_type": "code",
   "execution_count": 36,
   "metadata": {},
   "outputs": [
    {
     "data": {
      "text/plain": [
       "646-element Array{Float64,1}:\n",
       "  5.0\n",
       "  4.0\n",
       "  9.0\n",
       " 11.0\n",
       "  9.0\n",
       "  8.0\n",
       "  6.7\n",
       "  5.9\n",
       " 10.0\n",
       "  3.3\n",
       "  0.8\n",
       "  6.2\n",
       "  0.5\n",
       "  ⋮  \n",
       " -3.8\n",
       "  6.1\n",
       "  1.1\n",
       "  2.1\n",
       "  3.9\n",
       "  2.3\n",
       " -2.2\n",
       "  1.2\n",
       " -3.6\n",
       "  4.7\n",
       "  8.5\n",
       "  4.6"
      ]
     },
     "execution_count": 36,
     "metadata": {},
     "output_type": "execute_result"
    }
   ],
   "source": [
    "pucc[:Gexp_T_] = map(pucc[:Gexp_T_]) do x\n",
    "    parse(Float64,x)\n",
    "end"
   ]
  },
  {
   "cell_type": "code",
   "execution_count": 37,
   "metadata": {},
   "outputs": [
    {
     "data": {
      "text/html": [
       "<table class=\"data-frame\"><thead><tr><th></th><th>N</th><th>PDBid</th><th>Chain</th><th>RESN</th><th>RESwt</th><th>RESmut</th><th>Tmexp</th><th>Tmexp_wt_</th><th>Hmexp</th><th>Hmexp_wt_</th><th>CPexp</th><th>CPexp_wt_</th><th>Gexp_T_</th><th>T</th><th>Nres</th><th>R</th><th>Protein</th><th>Organism</th><th>Ref_</th><th>pH</th><th>Exp_Tech_</th></tr><tr><th></th><th>Int64⍰</th><th>String⍰</th><th>String⍰</th><th>Int64⍰</th><th>String⍰</th><th>String⍰</th><th>Float64⍰</th><th>Float64⍰</th><th>String⍰</th><th>String⍰</th><th>String⍰</th><th>String⍰</th><th>Float64</th><th>String⍰</th><th>Int64⍰</th><th>Float64⍰</th><th>String⍰</th><th>String⍰</th><th>String⍰</th><th>String⍰</th><th>String⍰</th></tr></thead><tbody><tr><th>1</th><td>1</td><td>1aky</td><td>A</td><td>8</td><td>VAL</td><td>ILE</td><td>-1.5</td><td>47.6</td><td>70</td><td>-340</td><td>-</td><td>-8.5</td><td>5.0</td><td>25</td><td>220</td><td>1.63</td><td>ADK</td><td>Yeast</td><td>[1]</td><td>[7.5]</td><td>FL</td></tr><tr><th>2</th><td>2</td><td>1aky</td><td>A</td><td>48</td><td>GLN</td><td>GLU</td><td>-1.3</td><td>47.6</td><td>60</td><td>-340</td><td>-</td><td>-8.5</td><td>4.0</td><td>25</td><td>220</td><td>1.63</td><td>ADK</td><td>Yeast</td><td>[1]</td><td>[7.7]</td><td>FL</td></tr><tr><th>3</th><td>3</td><td>1aky</td><td>A</td><td>77</td><td>THR</td><td>HIS</td><td>-1.1</td><td>47.6</td><td>130</td><td>-340</td><td>-</td><td>-8.5</td><td>9.0</td><td>25</td><td>220</td><td>1.63</td><td>ADK</td><td>Yeast</td><td>[1]</td><td>[7.5]</td><td>FL</td></tr><tr><th>4</th><td>4</td><td>1aky</td><td>A</td><td>110</td><td>THR</td><td>HIS</td><td>-4.8</td><td>47.6</td><td>165</td><td>-340</td><td>-</td><td>-8.5</td><td>11.0</td><td>25</td><td>220</td><td>1.63</td><td>ADK</td><td>Yeast</td><td>[1]</td><td>[7.6]</td><td>FL</td></tr><tr><th>5</th><td>5</td><td>1aky</td><td>A</td><td>169</td><td>ASN</td><td>ASP</td><td>-0.6</td><td>47.6</td><td>140</td><td>-340</td><td>-</td><td>-8.5</td><td>9.0</td><td>25</td><td>220</td><td>1.63</td><td>ADK</td><td>Yeast</td><td>[1]</td><td>[7.5]</td><td>FL</td></tr><tr><th>6</th><td>6</td><td>1aky</td><td>A</td><td>213</td><td>ILE</td><td>PHE</td><td>-7.7</td><td>47.6</td><td>90</td><td>-340</td><td>-</td><td>-8.5</td><td>8.0</td><td>25</td><td>220</td><td>1.63</td><td>ADK</td><td>Yeast</td><td>[1]</td><td>[7.5]</td><td>FL</td></tr><tr><th>7</th><td>7</td><td>1am7</td><td>A</td><td>31</td><td>HIS</td><td>ASP</td><td>-6.2</td><td>52.3</td><td>57</td><td>-474</td><td>-</td><td>-</td><td>6.7</td><td>25</td><td>158</td><td>2.3</td><td>1AM7</td><td>LambdaP</td><td>[2]</td><td>[6.0]</td><td>FL</td></tr><tr><th>8</th><td>8</td><td>1ank</td><td>A</td><td>84</td><td>ASP</td><td>HIS</td><td>-7.2</td><td>51.8</td><td>134</td><td>-398</td><td>-</td><td>-</td><td>5.9</td><td>52</td><td>214</td><td>2.0</td><td>ADK</td><td>Ecoli</td><td>[3]</td><td>[7.2]</td><td>DSC</td></tr><tr><th>9</th><td>9</td><td>1ank</td><td>A</td><td>85</td><td>GLY</td><td>VAL</td><td>-11.1</td><td>51.8</td><td>105</td><td>-398</td><td>-</td><td>-</td><td>10.0</td><td>52</td><td>214</td><td>2.0</td><td>ADK</td><td>Ecoli</td><td>[3]</td><td>[7.2]</td><td>DSC</td></tr><tr><th>10</th><td>10</td><td>1ank</td><td>A</td><td>86</td><td>PHE</td><td>LEU</td><td>-2.6</td><td>51.8</td><td>-8</td><td>-398</td><td>-</td><td>-</td><td>3.3</td><td>52</td><td>214</td><td>2.0</td><td>ADK</td><td>Ecoli</td><td>[3]</td><td>[7.2]</td><td>DSC</td></tr><tr><th>11</th><td>11</td><td>1ank</td><td>A</td><td>88</td><td>ARG</td><td>GLY</td><td>-0.8</td><td>51.8</td><td>84</td><td>-398</td><td>-</td><td>-</td><td>0.8</td><td>52</td><td>214</td><td>2.0</td><td>ADK</td><td>Ecoli</td><td>[4]</td><td>[7.4]</td><td>DSC</td></tr><tr><th>12</th><td>22</td><td>1ayf</td><td>A</td><td>54</td><td>THR</td><td>ALA</td><td>-5.5</td><td>50.7</td><td>70</td><td>-346</td><td>0.7</td><td>-7.5</td><td>6.2</td><td>25</td><td>105</td><td>1.85</td><td>ADR</td><td>Bovine</td><td>[8]</td><td>[8.5]</td><td>CD</td></tr><tr><th>13</th><td>23</td><td>1ayf</td><td>A</td><td>54</td><td>THR</td><td>SER</td><td>0.3</td><td>50.7</td><td>-1</td><td>-346</td><td>-0.5</td><td>-7.5</td><td>0.5</td><td>25</td><td>105</td><td>1.85</td><td>ADR</td><td>Bovine</td><td>[8]</td><td>[8.5]</td><td>CD</td></tr><tr><th>14</th><td>24</td><td>1ayf</td><td>A</td><td>56</td><td>HIS</td><td>GLN</td><td>-4.9</td><td>50.7</td><td>105</td><td>-346</td><td>0.4</td><td>-7.5</td><td>9.1</td><td>25</td><td>105</td><td>1.85</td><td>ADR</td><td>Bovine</td><td>[8]</td><td>[8.5]</td><td>DSC</td></tr><tr><th>15</th><td>25</td><td>1ayf</td><td>A</td><td>56</td><td>HIS</td><td>ARG</td><td>-2.1</td><td>50.7</td><td>106</td><td>-346</td><td>3.2</td><td>-7.5</td><td>5.7</td><td>25</td><td>105</td><td>1.85</td><td>ADR</td><td>Bovine</td><td>[8]</td><td>[8.5]</td><td>DSC</td></tr><tr><th>16</th><td>26</td><td>1ayf</td><td>A</td><td>56</td><td>HIS</td><td>THR</td><td>-2.6</td><td>50.7</td><td>84</td><td>-346</td><td>1.6</td><td>-7.5</td><td>5.9</td><td>25</td><td>105</td><td>1.85</td><td>ADR</td><td>Bovine</td><td>[8]</td><td>[8.5]</td><td>DSC</td></tr><tr><th>17</th><td>30</td><td>1ayf</td><td>A</td><td>76</td><td>ASP</td><td>GLU</td><td>2.0</td><td>50.7</td><td>-8</td><td>-346</td><td>-2.7</td><td>-7.5</td><td>2.0</td><td>25</td><td>105</td><td>1.85</td><td>ADR</td><td>Bovine</td><td>[8]</td><td>[8.5]</td><td>DSC</td></tr><tr><th>18</th><td>31</td><td>1ayf</td><td>A</td><td>82</td><td>TYR</td><td>PHE</td><td>0.1</td><td>50.7</td><td>5</td><td>-346</td><td>0</td><td>-7.5</td><td>0.4</td><td>25</td><td>105</td><td>1.85</td><td>ADR</td><td>Bovine</td><td>[8]</td><td>[8.5]</td><td>DSC</td></tr><tr><th>19</th><td>32</td><td>1ayf</td><td>A</td><td>82</td><td>TYR</td><td>LEU</td><td>-0.7</td><td>50.7</td><td>25</td><td>-346</td><td>-0.5</td><td>-7.5</td><td>2.9</td><td>25</td><td>105</td><td>1.85</td><td>ADR</td><td>Bovine</td><td>[8]</td><td>[8.5]</td><td>DSC</td></tr><tr><th>20</th><td>33</td><td>1ayf</td><td>A</td><td>82</td><td>TYR</td><td>SER</td><td>-0.8</td><td>50.7</td><td>21</td><td>-346</td><td>-0.7</td><td>-7.5</td><td>2.7</td><td>25</td><td>105</td><td>1.85</td><td>ADR</td><td>Bovine</td><td>[8]</td><td>[8.5]</td><td>DSC</td></tr><tr><th>21</th><td>37</td><td>1ayf</td><td>A</td><td>95</td><td>CYS</td><td>SER</td><td>4.4</td><td>50.7</td><td>-18</td><td>-346</td><td>0.7</td><td>-7.5</td><td>-3.9</td><td>25</td><td>105</td><td>1.85</td><td>ADR</td><td>Bovine</td><td>[8]</td><td>[8.5]</td><td>DSC</td></tr><tr><th>22</th><td>38</td><td>1azp</td><td>A</td><td>24</td><td>TRP</td><td>ALA</td><td>-9.6</td><td>90.7</td><td>49</td><td>-245</td><td>0</td><td>-3</td><td>8.5</td><td>25</td><td>61</td><td>1.6</td><td>1AZP</td><td>SULAC</td><td>[9]</td><td>[7.0]</td><td>DSC</td></tr><tr><th>23</th><td>39</td><td>1azp</td><td>A</td><td>30</td><td>VAL</td><td>ILE</td><td>5.8</td><td>90.7</td><td>-19</td><td>-245</td><td>-0.2</td><td>-3</td><td>-2.2</td><td>25</td><td>61</td><td>1.6</td><td>1AZP</td><td>SULAC</td><td>[10]</td><td>[7.0]</td><td>DSC</td></tr><tr><th>24</th><td>40</td><td>1bni</td><td>A</td><td>8</td><td>ASP</td><td>ALA</td><td>-2.0</td><td>54.2</td><td>5</td><td>-592</td><td>-</td><td>-6.7</td><td>2.5</td><td>25</td><td>110</td><td>2.1</td><td>1BNI</td><td>BACAM</td><td>[12]</td><td>[6.3]</td><td>CD</td></tr><tr><th>25</th><td>41</td><td>1bni</td><td>A</td><td>8</td><td>ASP</td><td>GLY</td><td>-3.0</td><td>54.2</td><td>16</td><td>-592</td><td>-</td><td>-6.7</td><td>4.2</td><td>25</td><td>110</td><td>2.1</td><td>1BNI</td><td>BACAM</td><td>[12]</td><td>[6.3]</td><td>CD</td></tr><tr><th>26</th><td>42</td><td>1bni</td><td>A</td><td>12</td><td>ASP</td><td>GLY</td><td>-2.0</td><td>54.2</td><td>8</td><td>-592</td><td>-</td><td>-6.7</td><td>2.5</td><td>25</td><td>110</td><td>2.1</td><td>1BNI</td><td>BACAM</td><td>[13]</td><td>[4.4]</td><td>DSC</td></tr><tr><th>27</th><td>43</td><td>1bni</td><td>A</td><td>14</td><td>LEU</td><td>ALA</td><td>-11.9</td><td>54.2</td><td>71</td><td>-592</td><td>-</td><td>-6.7</td><td>17.6</td><td>25</td><td>110</td><td>2.1</td><td>1BNI</td><td>BACAM</td><td>[14]</td><td>[6.3]</td><td>FL</td></tr><tr><th>28</th><td>44</td><td>1bni</td><td>A</td><td>16</td><td>THR</td><td>ARG</td><td>1.3</td><td>54.2</td><td>-5</td><td>-592</td><td>-</td><td>-6.7</td><td>-1.6</td><td>25</td><td>110</td><td>2.1</td><td>1BNI</td><td>BACAM</td><td>[13]</td><td>[4.4]</td><td>DSC</td></tr><tr><th>29</th><td>45</td><td>1bni</td><td>A</td><td>17</td><td>TYR</td><td>ALA</td><td>-5.1</td><td>54.2</td><td>35</td><td>-592</td><td>-</td><td>-6.7</td><td>7.9</td><td>25</td><td>110</td><td>2.1</td><td>1BNI</td><td>BACAM</td><td>[12]</td><td>[6.3]</td><td>CD</td></tr><tr><th>30</th><td>46</td><td>1bni</td><td>A</td><td>22</td><td>ASP</td><td>MET</td><td>-1.6</td><td>54.2</td><td>-16</td><td>-592</td><td>-</td><td>-6.7</td><td>0.4</td><td>25</td><td>110</td><td>2.1</td><td>1BNI</td><td>BACAM</td><td>[13]</td><td>[4.4]</td><td>DSC</td></tr><tr><th>&vellip;</th><td>&vellip;</td><td>&vellip;</td><td>&vellip;</td><td>&vellip;</td><td>&vellip;</td><td>&vellip;</td><td>&vellip;</td><td>&vellip;</td><td>&vellip;</td><td>&vellip;</td><td>&vellip;</td><td>&vellip;</td><td>&vellip;</td><td>&vellip;</td><td>&vellip;</td><td>&vellip;</td><td>&vellip;</td><td>&vellip;</td><td>&vellip;</td><td>&vellip;</td><td>&vellip;</td></tr></tbody></table>"
      ],
      "text/plain": [
       "646×21 DataFrame. Omitted printing of 14 columns\n",
       "│ Row │ N      │ PDBid     │ Chain   │ RESN   │ RESwt   │ RESmut  │ Tmexp    │\n",
       "│     │ \u001b[90mInt64⍰\u001b[39m │ \u001b[90mString⍰\u001b[39m   │ \u001b[90mString⍰\u001b[39m │ \u001b[90mInt64⍰\u001b[39m │ \u001b[90mString⍰\u001b[39m │ \u001b[90mString⍰\u001b[39m │ \u001b[90mFloat64⍰\u001b[39m │\n",
       "├─────┼────────┼───────────┼─────────┼────────┼─────────┼─────────┼──────────┤\n",
       "│ 1   │ 1      │ 1aky      │ A       │ 8      │ VAL     │ ILE     │ -1.5     │\n",
       "│ 2   │ 2      │ 1aky      │ A       │ 48     │ GLN     │ GLU     │ -1.3     │\n",
       "│ 3   │ 3      │ 1aky      │ A       │ 77     │ THR     │ HIS     │ -1.1     │\n",
       "│ 4   │ 4      │ 1aky      │ A       │ 110    │ THR     │ HIS     │ -4.8     │\n",
       "│ 5   │ 5      │ 1aky      │ A       │ 169    │ ASN     │ ASP     │ -0.6     │\n",
       "│ 6   │ 6      │ 1aky      │ A       │ 213    │ ILE     │ PHE     │ -7.7     │\n",
       "│ 7   │ 7      │ 1am7      │ A       │ 31     │ HIS     │ ASP     │ -6.2     │\n",
       "│ 8   │ 8      │ 1ank      │ A       │ 84     │ ASP     │ HIS     │ -7.2     │\n",
       "│ 9   │ 9      │ 1ank      │ A       │ 85     │ GLY     │ VAL     │ -11.1    │\n",
       "│ 10  │ 10     │ 1ank      │ A       │ 86     │ PHE     │ LEU     │ -2.6     │\n",
       "⋮\n",
       "│ 636 │ 1616   │ 5pti_m52l │ A       │ 15     │ LYS     │ ILE     │ -6.1     │\n",
       "│ 637 │ 1617   │ 5pti_m52l │ A       │ 15     │ LYS     │ LEU     │ -4.7     │\n",
       "│ 638 │ 1618   │ 5pti_m52l │ A       │ 15     │ LYS     │ MET     │ -4.9     │\n",
       "│ 639 │ 1619   │ 5pti_m52l │ A       │ 15     │ LYS     │ ASN     │ -1.4     │\n",
       "│ 640 │ 1620   │ 5pti_m52l │ A       │ 15     │ LYS     │ GLN     │ -3.5     │\n",
       "│ 641 │ 1621   │ 5pti_m52l │ A       │ 15     │ LYS     │ ARG     │ 1.3      │\n",
       "│ 642 │ 1622   │ 5pti_m52l │ A       │ 15     │ LYS     │ SER     │ -1.3     │\n",
       "│ 643 │ 1623   │ 5pti_m52l │ A       │ 15     │ LYS     │ THR     │ -1.1     │\n",
       "│ 644 │ 1624   │ 5pti_m52l │ A       │ 15     │ LYS     │ VAL     │ -6.3     │\n",
       "│ 645 │ 1625   │ 5pti_m52l │ A       │ 15     │ LYS     │ TRP     │ -7.5     │\n",
       "│ 646 │ 1626   │ 5pti_m52l │ A       │ 15     │ LYS     │ TYR     │ -6.6     │"
      ]
     },
     "execution_count": 37,
     "metadata": {},
     "output_type": "execute_result"
    }
   ],
   "source": [
    "pucc"
   ]
  },
  {
   "cell_type": "code",
   "execution_count": 38,
   "metadata": {},
   "outputs": [
    {
     "data": {
      "text/html": [
       "<table class=\"data-frame\"><thead><tr><th></th><th>N</th><th>PDBid</th><th>Chain</th><th>RESN</th><th>RESwt</th><th>RESmut</th><th>Tmexp</th><th>Tmexp_wt_</th><th>Hmexp</th><th>Hmexp_wt_</th><th>CPexp</th><th>CPexp_wt_</th><th>Gexp_T_</th><th>T</th><th>Nres</th><th>R</th><th>Protein</th><th>Organism</th><th>Ref_</th><th>pH</th><th>Exp_Tech_</th></tr><tr><th></th><th>Int64⍰</th><th>String⍰</th><th>String⍰</th><th>Int64⍰</th><th>String⍰</th><th>String⍰</th><th>Float64⍰</th><th>Float64⍰</th><th>String⍰</th><th>String⍰</th><th>String⍰</th><th>String⍰</th><th>Float64</th><th>String⍰</th><th>Int64⍰</th><th>Float64⍰</th><th>String⍰</th><th>String⍰</th><th>String⍰</th><th>String⍰</th><th>String⍰</th></tr></thead><tbody><tr><th>1</th><td>113</td><td>1c52</td><td>A</td><td>69</td><td>MET</td><td>ALA</td><td>4.0</td><td>94.9</td><td>-121</td><td>-127</td><td>-0.8</td><td>-1.3</td><td>-21.0</td><td>25</td><td>131</td><td>1.28</td><td>CY C552</td><td>THET</td><td>[239]</td><td>[7.0]</td><td>CD</td></tr><tr><th>2</th><td>146</td><td>1csp</td><td>A</td><td>1</td><td>MET</td><td>ARG</td><td>10.4</td><td>55.3</td><td>-33</td><td>-193</td><td>-</td><td>-</td><td>-7.3</td><td>70</td><td>67</td><td>2.45</td><td>Csp</td><td>BACSU</td><td>[20]</td><td>[7.0]</td><td>CD</td></tr><tr><th>3</th><td>148</td><td>1csp</td><td>A</td><td>3</td><td>GLU</td><td>LYS</td><td>16.6</td><td>55.3</td><td>-10</td><td>-193</td><td>-</td><td>-</td><td>-11.5</td><td>70</td><td>67</td><td>2.45</td><td>Csp</td><td>BACSU</td><td>[20]</td><td>[7.0]</td><td>CD</td></tr><tr><th>4</th><td>149</td><td>1csp</td><td>A</td><td>3</td><td>GLU</td><td>LEU</td><td>9.3</td><td>55.3</td><td>-15</td><td>-193</td><td>-</td><td>-</td><td>-6.8</td><td>70</td><td>67</td><td>2.45</td><td>Csp</td><td>BACSU</td><td>[20]</td><td>[7.0]</td><td>CD</td></tr><tr><th>5</th><td>150</td><td>1csp</td><td>A</td><td>3</td><td>GLU</td><td>GLN</td><td>10.3</td><td>55.3</td><td>-31</td><td>-193</td><td>-</td><td>-</td><td>-5.5</td><td>55</td><td>67</td><td>2.45</td><td>Csp</td><td>BACSU</td><td>[21]</td><td>[7.5]</td><td>CD</td></tr><tr><th>6</th><td>151</td><td>1csp</td><td>A</td><td>3</td><td>GLU</td><td>ARG</td><td>15.8</td><td>55.3</td><td>-26</td><td>-193</td><td>-</td><td>-</td><td>-11.1</td><td>70</td><td>67</td><td>2.45</td><td>Csp</td><td>BACSU</td><td>[20]</td><td>[7.0]</td><td>CD</td></tr><tr><th>7</th><td>152</td><td>1csp</td><td>A</td><td>3</td><td>GLU</td><td>VAL</td><td>10.2</td><td>55.3</td><td>-12</td><td>-193</td><td>-</td><td>-</td><td>-7.4</td><td>70</td><td>67</td><td>2.45</td><td>Csp</td><td>BACSU</td><td>[20]</td><td>[7.0]</td><td>CD</td></tr><tr><th>8</th><td>161</td><td>1csp</td><td>A</td><td>46</td><td>ALA</td><td>LYS</td><td>8.4</td><td>55.3</td><td>-23</td><td>-193</td><td>-</td><td>-</td><td>-5.9</td><td>70</td><td>67</td><td>2.45</td><td>Csp</td><td>BACSU</td><td>[20]</td><td>[7.0]</td><td>CD</td></tr><tr><th>9</th><td>164</td><td>1csp</td><td>A</td><td>48</td><td>SER</td><td>LYS</td><td>7.7</td><td>55.3</td><td>-2</td><td>-193</td><td>-</td><td>-</td><td>-5.9</td><td>70</td><td>67</td><td>2.45</td><td>Csp</td><td>BACSU</td><td>[20]</td><td>[7.0]</td><td>CD</td></tr><tr><th>10</th><td>165</td><td>1csp</td><td>A</td><td>48</td><td>SER</td><td>ARG</td><td>8.9</td><td>55.3</td><td>-9</td><td>-193</td><td>-</td><td>-</td><td>-6.6</td><td>70</td><td>67</td><td>2.45</td><td>Csp</td><td>BACSU</td><td>[20]</td><td>[7.0]</td><td>CD</td></tr><tr><th>11</th><td>169</td><td>1csp</td><td>A</td><td>65</td><td>LYS</td><td>ILE</td><td>8.6</td><td>55.3</td><td>-8</td><td>-193</td><td>-</td><td>-</td><td>-6.4</td><td>70</td><td>67</td><td>2.45</td><td>Csp</td><td>BACSU</td><td>[20]</td><td>[7.0]</td><td>CD</td></tr><tr><th>12</th><td>170</td><td>1csp</td><td>A</td><td>66</td><td>GLU</td><td>LYS</td><td>12.9</td><td>55.3</td><td>-33</td><td>-193</td><td>-</td><td>-</td><td>-9.1</td><td>70</td><td>67</td><td>2.45</td><td>Csp</td><td>BACSU</td><td>[20]</td><td>[7.0]</td><td>CD</td></tr><tr><th>13</th><td>171</td><td>1csp</td><td>A</td><td>66</td><td>GLU</td><td>LEU</td><td>12.6</td><td>55.3</td><td>-31</td><td>-193</td><td>-</td><td>-</td><td>-8.8</td><td>70</td><td>67</td><td>2.45</td><td>Csp</td><td>BACSU</td><td>[20]</td><td>[7.0]</td><td>CD</td></tr><tr><th>14</th><td>172</td><td>1csp</td><td>A</td><td>66</td><td>GLU</td><td>VAL</td><td>10.6</td><td>55.3</td><td>-28</td><td>-193</td><td>-</td><td>-</td><td>-7.2</td><td>70</td><td>67</td><td>2.45</td><td>Csp</td><td>BACSU</td><td>[20]</td><td>[7.0]</td><td>CD</td></tr><tr><th>15</th><td>206</td><td>1ey0</td><td>A</td><td>21</td><td>ASP</td><td>ASN</td><td>7.2</td><td>53.1</td><td>-</td><td>-337</td><td>-</td><td>-9.1</td><td>-5.9</td><td>20</td><td>149</td><td>1.6</td><td>S. Nuclease</td><td>STAA</td><td>[33]</td><td>[7.0]</td><td>FL</td></tr><tr><th>16</th><td>323</td><td>1ey0</td><td>A</td><td>124</td><td>HIS</td><td>LEU</td><td>5.3</td><td>53.1</td><td>-79</td><td>-337</td><td>0.9</td><td>-9.1</td><td>-6.6</td><td>25</td><td>149</td><td>1.6</td><td>S. Nuclease</td><td>STAA</td><td>[32,34,39]</td><td>[7.0]</td><td>FL-DSC</td></tr><tr><th>17</th><td>475</td><td>1io2</td><td>A</td><td>7</td><td>ASP</td><td>ASN</td><td>3.1</td><td>84.8</td><td>0</td><td>-573</td><td>-</td><td>-</td><td>-7.0</td><td>50</td><td>213</td><td>2.0</td><td>RNA HII</td><td>THEKO</td><td>[53]</td><td>[9.0]</td><td>DSC</td></tr><tr><th>18</th><td>476</td><td>1io2</td><td>A</td><td>8</td><td>GLU</td><td>ALA</td><td>8.0</td><td>84.8</td><td>-142</td><td>-573</td><td>-</td><td>-</td><td>-11.1</td><td>50</td><td>213</td><td>2.0</td><td>RNA HII</td><td>THEKO</td><td>[53]</td><td>[9.0]</td><td>DSC</td></tr><tr><th>19</th><td>484</td><td>1io2</td><td>A</td><td>105</td><td>ASP</td><td>ALA</td><td>4.2</td><td>84.8</td><td>-138</td><td>-573</td><td>-</td><td>-</td><td>-6.6</td><td>50</td><td>213</td><td>2.0</td><td>RNA HII</td><td>THEKO</td><td>[53]</td><td>[9.0]</td><td>DSC</td></tr><tr><th>20</th><td>486</td><td>1io2</td><td>A</td><td>135</td><td>ASP</td><td>ALA</td><td>5.2</td><td>84.8</td><td>-42</td><td>-573</td><td>-</td><td>-</td><td>-10.7</td><td>50</td><td>213</td><td>2.0</td><td>RNA HII</td><td>THEKO</td><td>[53]</td><td>[9.0]</td><td>DSC</td></tr><tr><th>21</th><td>853</td><td>1lz1</td><td>A</td><td>58</td><td>GLN</td><td>GLY</td><td>5.7</td><td>64.9</td><td>-10</td><td>-477</td><td>1</td><td>-6.5</td><td>-6.7</td><td>25</td><td>130</td><td>1.5</td><td>1AM7</td><td>Human</td><td>[101]</td><td>[2.7]</td><td>DSC</td></tr><tr><th>22</th><td>904</td><td>1lz1</td><td>A</td><td>110</td><td>VAL</td><td>ALA</td><td>1.5</td><td>64.9</td><td>-7</td><td>-477</td><td>1.4</td><td>-6.5</td><td>-5.2</td><td>25</td><td>130</td><td>1.5</td><td>1AM7</td><td>Human</td><td>[95]</td><td>[2.7]</td><td>DSC</td></tr><tr><th>23</th><td>1049</td><td>1poh</td><td>A</td><td>49</td><td>LYS</td><td>ALA</td><td>6.6</td><td>63.4</td><td>-18</td><td>-317</td><td>-</td><td>-</td><td>-6.7</td><td>25</td><td>85</td><td>2.0</td><td>1POH</td><td>Ecoli</td><td>[114]</td><td>[7.0]</td><td>CD</td></tr><tr><th>24</th><td>1050</td><td>1poh</td><td>A</td><td>49</td><td>LYS</td><td>ASP</td><td>7.4</td><td>63.4</td><td>-18</td><td>-317</td><td>-</td><td>-</td><td>-7.5</td><td>25</td><td>85</td><td>2.0</td><td>1POH</td><td>Ecoli</td><td>[114]</td><td>[7.0]</td><td>CD</td></tr><tr><th>25</th><td>1051</td><td>1poh</td><td>A</td><td>49</td><td>LYS</td><td>GLU</td><td>8.7</td><td>63.4</td><td>-36</td><td>-317</td><td>-</td><td>-</td><td>-8.8</td><td>25</td><td>85</td><td>2.0</td><td>1POH</td><td>Ecoli</td><td>[114]</td><td>[7.0]</td><td>CD</td></tr><tr><th>26</th><td>1055</td><td>1poh</td><td>A</td><td>49</td><td>LYS</td><td>GLN</td><td>6.4</td><td>63.4</td><td>-50</td><td>-317</td><td>-</td><td>-</td><td>-6.3</td><td>25</td><td>85</td><td>2.0</td><td>1POH</td><td>Ecoli</td><td>[114]</td><td>[7.0]</td><td>CD</td></tr><tr><th>27</th><td>1078</td><td>1rn1</td><td>C</td><td>25</td><td>GLN</td><td>LYS</td><td>3.4</td><td>50.1</td><td>-46</td><td>-404</td><td>-</td><td>-5.4</td><td>-5.9</td><td>25</td><td>104</td><td>1.84</td><td>RNA T1p</td><td>ASPOR</td><td>[122]</td><td>[7.0]</td><td>FL</td></tr><tr><th>28</th><td>1238</td><td>1wq5</td><td>A</td><td>118</td><td>CYS</td><td>SER</td><td>-8.5</td><td>59.5</td><td>78</td><td>-394</td><td>10.5</td><td>-20.1</td><td>-5.2</td><td>25</td><td>268</td><td>2.3</td><td>TSA</td><td>Ecoli</td><td>[149]</td><td>[9.0]</td><td>DSC</td></tr><tr><th>29</th><td>1255</td><td>1ycc</td><td>A</td><td>69</td><td>THR</td><td>GLU</td><td>5.2</td><td>58.0</td><td>-71</td><td>-345</td><td>-</td><td>-5.7</td><td>-6.3</td><td>57</td><td>108</td><td>1.23</td><td>CYC1</td><td>Yeast</td><td>[160]</td><td>[6.0]</td><td>DSC</td></tr><tr><th>30</th><td>1279</td><td>1ycc_c102a</td><td>A</td><td>52</td><td>ASN</td><td>ILE</td><td>0.9</td><td>63.3</td><td>-5</td><td>-330</td><td>-</td><td>-</td><td>-8.5</td><td>27</td><td>108</td><td>1.23</td><td>CYC1</td><td>Yeast</td><td>[161]</td><td>[5.0]</td><td>DSC</td></tr><tr><th>&vellip;</th><td>&vellip;</td><td>&vellip;</td><td>&vellip;</td><td>&vellip;</td><td>&vellip;</td><td>&vellip;</td><td>&vellip;</td><td>&vellip;</td><td>&vellip;</td><td>&vellip;</td><td>&vellip;</td><td>&vellip;</td><td>&vellip;</td><td>&vellip;</td><td>&vellip;</td><td>&vellip;</td><td>&vellip;</td><td>&vellip;</td><td>&vellip;</td><td>&vellip;</td><td>&vellip;</td></tr></tbody></table>"
      ],
      "text/plain": [
       "45×21 DataFrame. Omitted printing of 14 columns\n",
       "│ Row │ N      │ PDBid   │ Chain   │ RESN   │ RESwt   │ RESmut  │ Tmexp    │\n",
       "│     │ \u001b[90mInt64⍰\u001b[39m │ \u001b[90mString⍰\u001b[39m │ \u001b[90mString⍰\u001b[39m │ \u001b[90mInt64⍰\u001b[39m │ \u001b[90mString⍰\u001b[39m │ \u001b[90mString⍰\u001b[39m │ \u001b[90mFloat64⍰\u001b[39m │\n",
       "├─────┼────────┼─────────┼─────────┼────────┼─────────┼─────────┼──────────┤\n",
       "│ 1   │ 113    │ 1c52    │ A       │ 69     │ MET     │ ALA     │ 4.0      │\n",
       "│ 2   │ 146    │ 1csp    │ A       │ 1      │ MET     │ ARG     │ 10.4     │\n",
       "│ 3   │ 148    │ 1csp    │ A       │ 3      │ GLU     │ LYS     │ 16.6     │\n",
       "│ 4   │ 149    │ 1csp    │ A       │ 3      │ GLU     │ LEU     │ 9.3      │\n",
       "│ 5   │ 150    │ 1csp    │ A       │ 3      │ GLU     │ GLN     │ 10.3     │\n",
       "│ 6   │ 151    │ 1csp    │ A       │ 3      │ GLU     │ ARG     │ 15.8     │\n",
       "│ 7   │ 152    │ 1csp    │ A       │ 3      │ GLU     │ VAL     │ 10.2     │\n",
       "│ 8   │ 161    │ 1csp    │ A       │ 46     │ ALA     │ LYS     │ 8.4      │\n",
       "│ 9   │ 164    │ 1csp    │ A       │ 48     │ SER     │ LYS     │ 7.7      │\n",
       "│ 10  │ 165    │ 1csp    │ A       │ 48     │ SER     │ ARG     │ 8.9      │\n",
       "⋮\n",
       "│ 35  │ 1335   │ 2lzm    │ A       │ 11     │ GLU     │ PHE     │ 4.3      │\n",
       "│ 36  │ 1336   │ 2lzm    │ A       │ 11     │ GLU     │ MET     │ 4.1      │\n",
       "│ 37  │ 1376   │ 2lzm    │ A       │ 117    │ SER     │ ILE     │ 4.2      │\n",
       "│ 38  │ 1377   │ 2lzm    │ A       │ 117    │ SER     │ VAL     │ 5.1      │\n",
       "│ 39  │ 1394   │ 2lzm    │ A       │ 132    │ ASN     │ PHE     │ 3.3      │\n",
       "│ 40  │ 1396   │ 2lzm    │ A       │ 132    │ ASN     │ MET     │ 3.6      │\n",
       "│ 41  │ 1494   │ 2trx    │ A       │ 26     │ ASP     │ ILE     │ 11.0     │\n",
       "│ 42  │ 1497   │ 2trx    │ A       │ 40     │ PRO     │ SER     │ -0.4     │\n",
       "│ 43  │ 1502   │ 3d2c    │ A       │ 134    │ MET     │ GLU     │ 1.7      │\n",
       "│ 44  │ 1503   │ 3d2c    │ A       │ 137    │ MET     │ PRO     │ 2.9      │\n",
       "│ 45  │ 1504   │ 3d2c    │ A       │ 163    │ SER     │ PRO     │ 1.0      │"
      ]
     },
     "execution_count": 38,
     "metadata": {},
     "output_type": "execute_result"
    }
   ],
   "source": [
    "sub5 = pucc[pucc[:Gexp_T_] .< -5.0, :]"
   ]
  },
  {
   "cell_type": "code",
   "execution_count": 40,
   "metadata": {},
   "outputs": [
    {
     "data": {
      "text/plain": [
       "\"subneg5.csv\""
      ]
     },
     "execution_count": 40,
     "metadata": {},
     "output_type": "execute_result"
    }
   ],
   "source": [
    "sub5 |> CSV.write(\"subneg5.csv\")\n",
    "    "
   ]
  },
  {
   "cell_type": "code",
   "execution_count": null,
   "metadata": {},
   "outputs": [],
   "source": []
  },
  {
   "cell_type": "code",
   "execution_count": null,
   "metadata": {},
   "outputs": [],
   "source": []
  }
 ],
 "metadata": {
  "kernelspec": {
   "display_name": "Julia 1.0.0",
   "language": "julia",
   "name": "julia-1.0"
  },
  "language_info": {
   "file_extension": ".jl",
   "mimetype": "application/julia",
   "name": "julia",
   "version": "1.0.1"
  }
 },
 "nbformat": 4,
 "nbformat_minor": 2
}
